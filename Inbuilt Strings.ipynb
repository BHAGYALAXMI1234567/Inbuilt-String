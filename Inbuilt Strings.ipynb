{
 "cells": [
  {
   "cell_type": "raw",
   "id": "429caa57-b931-44d3-a930-f9d978091c42",
   "metadata": {},
   "source": [
    "Q1 )What is the purpose of the len() function in Python, and how can it be used with strings?\n",
    "\n",
    "\n",
    "Ans) len() is a function of python which returns the length of a given string. \n",
    "\n",
    "Eg: \n",
    "\n",
    "Input:\n",
    "\n",
    "s=\" Hello Aabha\"\n",
    "n=len(s)\n",
    "print(n)\n",
    "\n",
    "Output:\n",
    "\n",
    "11"
   ]
  },
  {
   "cell_type": "code",
   "execution_count": 1,
   "id": "2d6ea44b-92f0-4296-8772-f5c4db41f12e",
   "metadata": {},
   "outputs": [
    {
     "name": "stdout",
     "output_type": "stream",
     "text": [
      "Given string is  Hello Aabha\n",
      "length i 12\n"
     ]
    }
   ],
   "source": [
    "#Eg: \n",
    "#Input:\n",
    "s=\" Hello Aabha\"\n",
    "n=len(s)\n",
    "print(\"Given string is\",s)\n",
    "print(\"length i\",n)"
   ]
  },
  {
   "cell_type": "raw",
   "id": "b367734e-23fb-48c1-a205-094af8bfde96",
   "metadata": {},
   "source": [
    "Q2 )How can you concatenate two or more strings in Python, and can you provide an example of string concatenation?\n",
    "\n",
    "\n",
    "Ans)To concatenate means to join. Pythons allows us to join two strings using concatenate operator plus which is denoted by the symbol +.\n",
    "\n",
    "Eg:\n",
    "\n",
    "Input:\n",
    "\n",
    "str_1=\"Hi\" #First String\n",
    "\n",
    "str_2=\"Aabha\" #Second String\n",
    "\n",
    "str_3=str_1 + str_2#Concatenated String\n",
    "\n",
    "print('String1',str_1)\n",
    "\n",
    "print('String2',str_2)\n",
    "\n",
    "print('Concatenated String', str_3)\n",
    "\n",
    "Output:\n",
    "\n",
    "String1= Hi\n",
    "\n",
    "String2= Aabha\n",
    "\n",
    "Concatenated String= Hi Aabha"
   ]
  },
  {
   "cell_type": "code",
   "execution_count": 3,
   "id": "24c09838-995c-463f-a64f-ff6556191683",
   "metadata": {},
   "outputs": [
    {
     "name": "stdout",
     "output_type": "stream",
     "text": [
      "String1= Hi\n",
      "String2= Aabha\n",
      "Concatenated String= Hi Aabha\n"
     ]
    }
   ],
   "source": [
    "#Eg:\n",
    "#Input\n",
    "str_1=\"Hi\" #First String\n",
    "str_2=\"Aabha\" #Second String\n",
    "str_3=str_1 + \" \" +str_2#Concatenated String\n",
    "print('String1=',str_1)\n",
    "print('String2=',str_2)\n",
    "print('Concatenated String=', str_3)"
   ]
  },
  {
   "cell_type": "raw",
   "id": "843cb49e-0aea-4adf-925d-409512e3ad86",
   "metadata": {},
   "source": [
    "Q3 )What is string slicing in Python, and how can you extract a portion of a string using this method?\n",
    "\n",
    "\n",
    "Ans)The Slice[n : m] operator extracts sub parts from the strings. This is known as string slicing.\n",
    "\n",
    "Eg:\n",
    "\n",
    "Input:\n",
    "\n",
    "A=‟Save Earth‟\n",
    "\n",
    "print (A[1:3])\n",
    "\n",
    "Output:\n",
    "\n",
    "av\n",
    "\n",
    "Here, the print statement prints the substring starting from subscript 1 and ending at subscript 3 but not including subscript 3"
   ]
  },
  {
   "cell_type": "raw",
   "id": "789a713b-bf0f-4c35-892e-54b51ac7317b",
   "metadata": {},
   "source": [
    "Q4 )How can you change the case of a string in Python, and can you provide examples of both making a string  all uppercase and all lowercase?\n",
    "Ans)The function lower(), returns the exact copy of the string with all the letters in lowercase. The function 'upper()', returns the exact copy of the string with all letters in uppercase."
   ]
  },
  {
   "cell_type": "code",
   "execution_count": 6,
   "id": "069a5c08-a515-474f-94bd-83a8d871c235",
   "metadata": {},
   "outputs": [
    {
     "name": "stdout",
     "output_type": "stream",
     "text": [
      "String= Aabha is a good girl\n",
      "Uppercase string= AABHA IS A GOOD GIRL\n",
      "Lowercase string= aabha is a good girl\n"
     ]
    }
   ],
   "source": [
    "#Eg:\n",
    "string=\"Aabha is a good girl\"\n",
    "print('String=',string)\n",
    "#To make a string all uppercase\n",
    "print ('Uppercase string=',string.upper())\n",
    "#To make a string all lowercase\n",
    "print('Lowercase string=',string.lower())"
   ]
  },
  {
   "cell_type": "raw",
   "id": "c08ee5e5-a917-4949-b8e2-d78d30a2bdd7",
   "metadata": {},
   "source": [
    "Q5 )What does the split() method do in Python, and how can you split a string using a specific delimiter?\n",
    "Ans)The function 'split()' splits the string into substrings using the separator. The second argument is optional and its default value is zero. If an integer value N is given for the second argument, the string is split in N+1 strings.\n",
    "\n",
    "Eg:\n",
    "\n",
    "#To spit a string usin delimiter\n",
    "\n",
    "Input:\n",
    "\n",
    "str='The$earth$is$what$we$all$have$in$common.'\n",
    "\n",
    "str.split($,3)\n",
    "\n",
    "Output:\n",
    "\n",
    "SyntaxError: invalid syntax\n",
    "\n",
    "Input1:\n",
    "\n",
    "str.split('$',3)\n",
    "\n",
    "['The', 'earth', 'is','what$we$all$have$in$common.']\n",
    "\n",
    "str.split('$')\n",
    "\n",
    "Output1:\n",
    "\n",
    "['The', 'earth', 'is', 'what', 'we', 'all', 'have', 'in', 'common.']"
   ]
  }
 ],
 "metadata": {
  "kernelspec": {
   "display_name": "Python 3 (ipykernel)",
   "language": "python",
   "name": "python3"
  },
  "language_info": {
   "codemirror_mode": {
    "name": "ipython",
    "version": 3
   },
   "file_extension": ".py",
   "mimetype": "text/x-python",
   "name": "python",
   "nbconvert_exporter": "python",
   "pygments_lexer": "ipython3",
   "version": "3.10.8"
  }
 },
 "nbformat": 4,
 "nbformat_minor": 5
}
